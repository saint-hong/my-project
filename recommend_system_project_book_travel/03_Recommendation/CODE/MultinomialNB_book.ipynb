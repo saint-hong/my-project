{
  "nbformat": 4,
  "nbformat_minor": 0,
  "metadata": {
    "colab": {
      "name": "MultinomialNB_book.ipynb",
      "provenance": []
    },
    "kernelspec": {
      "name": "python3",
      "display_name": "Python 3"
    }
  },
  "cells": [
    {
      "cell_type": "code",
      "metadata": {
        "id": "qSKllR4PPYh8",
        "colab_type": "code",
        "colab": {}
      },
      "source": [
        "import pandas as pd"
      ],
      "execution_count": 0,
      "outputs": []
    },
    {
      "cell_type": "code",
      "metadata": {
        "id": "sZ9IGnX7PeDo",
        "colab_type": "code",
        "colab": {}
      },
      "source": [
        "df = pd.read_csv('/content/drive/My Drive/ML_data/book_03_15_19_29_final.csv', index_col=0)"
      ],
      "execution_count": 0,
      "outputs": []
    },
    {
      "cell_type": "markdown",
      "metadata": {
        "id": "-96FEhXSPthK",
        "colab_type": "text"
      },
      "source": [
        "type 컬럼 정리"
      ]
    },
    {
      "cell_type": "code",
      "metadata": {
        "id": "l9wHDJnXPgtU",
        "colab_type": "code",
        "colab": {}
      },
      "source": [
        "df.loc[df['type'] == '[가족, 지식추구]', 'type'] = '[가족]'\n",
        "df.loc[df['type'] == '[지식추구, 맛집]', 'type'] = '[지식추구]'\n",
        "df.loc[df['type'] == '[지식추구, 문화예술]', 'type'] = '[지식추구]'\n",
        "df.loc[df['type'] == '[지식추구, 자연친화]', 'type'] = '[지식추구]'\n",
        "df.loc[df['type'] == '[지식추구, 가족]', 'type'] = '[지식추구]'\n",
        "df.loc[df['type'] == '[자연친화, 지식추구]', 'type'] = '[자연친화]'\n",
        "df.loc[df['type'] == '[도전, 지식추구]', 'type'] = '[도전]'\n",
        "df.loc[df['type'] == '[지식추구, 도전]', 'type'] = '[지식추구]'\n",
        "df.loc[df['type'] == '[도시, 지식추구]', 'type'] = '[도시]'\n",
        "df.loc[df['type'] == '[문화예술, 지식추구]', 'type'] = '[문화예술]'"
      ],
      "execution_count": 0,
      "outputs": []
    },
    {
      "cell_type": "code",
      "metadata": {
        "id": "oEiD5O09P6Fb",
        "colab_type": "code",
        "colab": {}
      },
      "source": [
        "df['type'] = df['type'].apply(lambda x: x.replace('[', '').replace(']', ''))"
      ],
      "execution_count": 0,
      "outputs": []
    },
    {
      "cell_type": "code",
      "metadata": {
        "id": "YxBM-PAaPz26",
        "colab_type": "code",
        "colab": {
          "base_uri": "https://localhost:8080/",
          "height": 52
        },
        "outputId": "72d4f497-153b-44a3-9e6a-04d0f845a211"
      },
      "source": [
        "df['type'].unique()"
      ],
      "execution_count": 7,
      "outputs": [
        {
          "output_type": "execute_result",
          "data": {
            "text/plain": [
              "array(['문화예술', '자연친화', '도시', '지식추구', '셀피', '가족', '도전', '체험중시', '맛집'],\n",
              "      dtype=object)"
            ]
          },
          "metadata": {
            "tags": []
          },
          "execution_count": 7
        }
      ]
    },
    {
      "cell_type": "markdown",
      "metadata": {
        "id": "RqyAiB8hP_t2",
        "colab_type": "text"
      },
      "source": [
        "X, y 분류"
      ]
    },
    {
      "cell_type": "code",
      "metadata": {
        "id": "YSno3XWhP2mX",
        "colab_type": "code",
        "colab": {}
      },
      "source": [
        "x = [summary for summary in df['summary_x']]\n",
        "y = [t for t in df['type']]"
      ],
      "execution_count": 0,
      "outputs": []
    },
    {
      "cell_type": "code",
      "metadata": {
        "id": "W6hKPPCzQNN0",
        "colab_type": "code",
        "colab": {
          "base_uri": "https://localhost:8080/",
          "height": 54
        },
        "outputId": "6cfea38f-4dbd-4873-8604-401f0684d71c"
      },
      "source": [
        "x[0]"
      ],
      "execution_count": 17,
      "outputs": [
        {
          "output_type": "execute_result",
          "data": {
            "text/plain": [
              "'오월을 사랑하고 오월을 닮은 시인 피천득 수필집 『인연』. 피천득 특유의 천진함과 소박한 생각, 단정하고 깨끗한 미문(美文)으로 완성된 담백하고 욕심 없는 세계다. 이번 개정판에서는 기존에 수록된 원고 이외 「기다리는 편지」「여름밤의 나그네」 등 2편을 추가했다. 그 외에도 박준 시인의 발문과 생전에 박완서 작가가 쓴 추모 글, 피천득 작가의 아들 피수영 박사의 추모 글을 수록해 다양한 관점에서 피천득 작가를 바라볼 수 있도록 구성했다.저자 피천득은 1910년~2007년. 서울에서 태어나 상해 호강대학교 영어영문학과를 졸업했다. 광복 전에는 경성중앙산업학원 교원으로 지내며 시작(詩作)과 영시 연구에 전념했고 광복 후에는 서울대학교 영어영문학과 교수로 재직했다. 1930년 《신동아》에 시 「서정소곡」을 발표하며 작품 활동을 시작했다. 이어 「소곡」, 「가신 님」 등을 발표하며 아름다운 정조와 생활을 노래하는 순수서정성으로 높은 평가를 받았다. 이후 「눈보라치는 밤의 추억」, 「나의 파일」 등 다수의 수필을 발표하여 호평을 받았다. 특히 일상에서의 생활 감정을 섬세한 문체로 소박하고 아름답게 표현한 그의 산문은 서정적?명상적 수필의 대명사로 불리며 한국 수필 문학의 수준을 한 단계 도약시켰다. 그중에서도 「인연」 「수필」 등의 작품은 교과서에 수록되어 있다. 1991년 대한민국 문화예술상 은관문화훈장을 받았다.수필신춘조춘종달새봄파리에 부친 편지오월가든파티장미여성의 미모시수상 스키꿈선물플루트 플레이어너무 많다보기에 따라서는여성의 편지장난감가구눈물맛과 멋호이트 컬렉션전화시골 한약국장수황포탄의 추석기다리는 편지용돈금반지이사보스턴 심포니엄마그날찬란한 시절서영이에게어느 날서영이서영이 대학에 가다딸에게서영이와 난영이외삼촌 할아버지인연유순이도산도산 선생께춘원셰익스피어도연명로버트 프로스트 1로버트 프로스트 2 찰스 램브룩의 애국시여심치옹어느 학자의 초상아인슈타인나의 사랑하는 생활멋반사적 광영피가지변이야기잠구원의 여상낙서은전 한 닢술순례비원기행소품토요일여린 마음초대여름밤의 나그네기도우정1945년 8월 15일콩코드 찬가시집 가는 친구 딸에게유머의 기능문화재 보존송년만년『인연』과의 인연_박준 (시인)생활이 곧 수필 같았던 선생님_박완서 (소설가)사랑하는 아빠에게_피수영작가 연보'"
            ]
          },
          "metadata": {
            "tags": []
          },
          "execution_count": 17
        }
      ]
    },
    {
      "cell_type": "code",
      "metadata": {
        "id": "GoUF2cAVQRLN",
        "colab_type": "code",
        "colab": {
          "base_uri": "https://localhost:8080/",
          "height": 34
        },
        "outputId": "7478b9a0-cf9f-404d-a1d2-e6683e846bf2"
      },
      "source": [
        "len(x)"
      ],
      "execution_count": 18,
      "outputs": [
        {
          "output_type": "execute_result",
          "data": {
            "text/plain": [
              "208"
            ]
          },
          "metadata": {
            "tags": []
          },
          "execution_count": 18
        }
      ]
    },
    {
      "cell_type": "code",
      "metadata": {
        "id": "kgjcrnShQf4O",
        "colab_type": "code",
        "colab": {
          "base_uri": "https://localhost:8080/",
          "height": 34
        },
        "outputId": "173402fc-2d31-4073-dfc0-6931c552dfda"
      },
      "source": [
        "y[0]"
      ],
      "execution_count": 19,
      "outputs": [
        {
          "output_type": "execute_result",
          "data": {
            "text/plain": [
              "'문화예술'"
            ]
          },
          "metadata": {
            "tags": []
          },
          "execution_count": 19
        }
      ]
    },
    {
      "cell_type": "code",
      "metadata": {
        "id": "J_0mJYhnQl7l",
        "colab_type": "code",
        "colab": {
          "base_uri": "https://localhost:8080/",
          "height": 34
        },
        "outputId": "9f397d25-fe82-455d-e2cc-ed7b05fa971d"
      },
      "source": [
        "len(y)"
      ],
      "execution_count": 20,
      "outputs": [
        {
          "output_type": "execute_result",
          "data": {
            "text/plain": [
              "208"
            ]
          },
          "metadata": {
            "tags": []
          },
          "execution_count": 20
        }
      ]
    },
    {
      "cell_type": "markdown",
      "metadata": {
        "id": "NJ5STTeZQqZB",
        "colab_type": "text"
      },
      "source": [
        "train, test 나누기"
      ]
    },
    {
      "cell_type": "code",
      "metadata": {
        "id": "IvNMTz1JQnOJ",
        "colab_type": "code",
        "colab": {}
      },
      "source": [
        "from sklearn.model_selection import train_test_split"
      ],
      "execution_count": 0,
      "outputs": []
    },
    {
      "cell_type": "code",
      "metadata": {
        "id": "CdbpJZiBQyTd",
        "colab_type": "code",
        "colab": {}
      },
      "source": [
        "X_train, X_test, y_train, y_test = train_test_split(x, y, test_size=0.2, \n",
        "                                                    random_state=13, stratify=y)"
      ],
      "execution_count": 0,
      "outputs": []
    },
    {
      "cell_type": "markdown",
      "metadata": {
        "id": "HI7DxT9cRkkp",
        "colab_type": "text"
      },
      "source": [
        "파이프라인 : 형태소 분석 + 나이브베이즈 분류기 "
      ]
    },
    {
      "cell_type": "code",
      "metadata": {
        "id": "QqLo1ZdrSWkO",
        "colab_type": "code",
        "colab": {}
      },
      "source": [
        "!pip install konlpy"
      ],
      "execution_count": 0,
      "outputs": []
    },
    {
      "cell_type": "code",
      "metadata": {
        "id": "6Io_oLbwRTNn",
        "colab_type": "code",
        "colab": {}
      },
      "source": [
        "from sklearn.feature_extraction.text import CountVectorizer\n",
        "from sklearn.naive_bayes import MultinomialNB\n",
        "from sklearn.pipeline import Pipeline\n",
        "from konlpy.tag import Okt"
      ],
      "execution_count": 0,
      "outputs": []
    },
    {
      "cell_type": "code",
      "metadata": {
        "id": "N8UTAickSbmD",
        "colab_type": "code",
        "colab": {}
      },
      "source": [
        "# 토큰화 함수\n",
        "pos_tagger = Okt()\n",
        "\n",
        "def tokenize_pos(doc):\n",
        "  return ['/'.join(t) for t in pos_tagger.pos(doc)]"
      ],
      "execution_count": 0,
      "outputs": []
    },
    {
      "cell_type": "code",
      "metadata": {
        "id": "2drTWGWnSbht",
        "colab_type": "code",
        "colab": {}
      },
      "source": [
        "# 파이프라인 만들기\n",
        "model = Pipeline([\n",
        "                  ('vect', CountVectorizer(tokenizer=tokenize_pos)),\n",
        "                   ('mb', MultinomialNB()),\n",
        "                   ])"
      ],
      "execution_count": 0,
      "outputs": []
    },
    {
      "cell_type": "markdown",
      "metadata": {
        "id": "8dMCFrfvTgJ_",
        "colab_type": "text"
      },
      "source": [
        "학습시키기"
      ]
    },
    {
      "cell_type": "code",
      "metadata": {
        "id": "LSPRMTfzSbcy",
        "colab_type": "code",
        "colab": {
          "base_uri": "https://localhost:8080/",
          "height": 316
        },
        "outputId": "f8e08d4a-b79c-4827-b025-9adb44877e1a"
      },
      "source": [
        "%%time\n",
        "model.fit(X_train, y_train)"
      ],
      "execution_count": 37,
      "outputs": [
        {
          "output_type": "stream",
          "text": [
            "CPU times: user 42.5 s, sys: 718 ms, total: 43.2 s\n",
            "Wall time: 28.3 s\n"
          ],
          "name": "stdout"
        },
        {
          "output_type": "execute_result",
          "data": {
            "text/plain": [
              "Pipeline(memory=None,\n",
              "         steps=[('vect',\n",
              "                 CountVectorizer(analyzer='word', binary=False,\n",
              "                                 decode_error='strict',\n",
              "                                 dtype=<class 'numpy.int64'>, encoding='utf-8',\n",
              "                                 input='content', lowercase=True, max_df=1.0,\n",
              "                                 max_features=None, min_df=1,\n",
              "                                 ngram_range=(1, 1), preprocessor=None,\n",
              "                                 stop_words=None, strip_accents=None,\n",
              "                                 token_pattern='(?u)\\\\b\\\\w\\\\w+\\\\b',\n",
              "                                 tokenizer=<function tokenize_pos at 0x7f31c95eb840>,\n",
              "                                 vocabulary=None)),\n",
              "                ('mb',\n",
              "                 MultinomialNB(alpha=1.0, class_prior=None, fit_prior=True))],\n",
              "         verbose=False)"
            ]
          },
          "metadata": {
            "tags": []
          },
          "execution_count": 37
        }
      ]
    },
    {
      "cell_type": "markdown",
      "metadata": {
        "id": "8i_7jW0sX3jO",
        "colab_type": "text"
      },
      "source": [
        "정확도 확인"
      ]
    },
    {
      "cell_type": "code",
      "metadata": {
        "id": "ohhT5bu2X8bA",
        "colab_type": "code",
        "colab": {}
      },
      "source": [
        "from sklearn.metrics import classification_report"
      ],
      "execution_count": 0,
      "outputs": []
    },
    {
      "cell_type": "code",
      "metadata": {
        "id": "uzjAvdhoRrID",
        "colab_type": "code",
        "colab": {
          "base_uri": "https://localhost:8080/",
          "height": 354
        },
        "outputId": "42cc70b6-6aac-4b0b-d4a1-75fa62cfa2f3"
      },
      "source": [
        "print(classification_report(y_test, model.predict(X_test)))"
      ],
      "execution_count": 40,
      "outputs": [
        {
          "output_type": "stream",
          "text": [
            "              precision    recall  f1-score   support\n",
            "\n",
            "          가족       0.00      0.00      0.00         2\n",
            "          도시       0.00      0.00      0.00         5\n",
            "          도전       0.00      0.00      0.00         3\n",
            "          맛집       0.00      0.00      0.00         1\n",
            "        문화예술       0.00      0.00      0.00         4\n",
            "          셀피       0.00      0.00      0.00         1\n",
            "        자연친화       0.33      0.33      0.33         6\n",
            "        지식추구       0.54      1.00      0.70        19\n",
            "        체험중시       0.00      0.00      0.00         1\n",
            "\n",
            "    accuracy                           0.50        42\n",
            "   macro avg       0.10      0.15      0.12        42\n",
            "weighted avg       0.29      0.50      0.37        42\n",
            "\n"
          ],
          "name": "stdout"
        },
        {
          "output_type": "stream",
          "text": [
            "/usr/local/lib/python3.6/dist-packages/sklearn/metrics/_classification.py:1272: UndefinedMetricWarning: Precision and F-score are ill-defined and being set to 0.0 in labels with no predicted samples. Use `zero_division` parameter to control this behavior.\n",
            "  _warn_prf(average, modifier, msg_start, len(result))\n"
          ],
          "name": "stderr"
        }
      ]
    },
    {
      "cell_type": "code",
      "metadata": {
        "id": "C7jlZHpIX2Nl",
        "colab_type": "code",
        "colab": {}
      },
      "source": [
        ""
      ],
      "execution_count": 0,
      "outputs": []
    }
  ]
}