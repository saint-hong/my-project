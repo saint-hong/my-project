{
 "cells": [
  {
   "cell_type": "markdown",
   "metadata": {},
   "source": [
    "### 1. 필요한 모듈, 데이터 임포트"
   ]
  },
  {
   "cell_type": "code",
   "execution_count": 1,
   "metadata": {},
   "outputs": [],
   "source": [
    "# 추천 함수 임포트\n",
    "from find_sim_data import *"
   ]
  },
  {
   "cell_type": "code",
   "execution_count": 2,
   "metadata": {},
   "outputs": [],
   "source": [
    "import pickle"
   ]
  },
  {
   "cell_type": "code",
   "execution_count": 3,
   "metadata": {},
   "outputs": [],
   "source": [
    "# 유사도 메트릭스 임포트\n",
    "with open('co_sim_sorted.pickle', 'rb') as f:\n",
    "    co_sim_sorted = pickle.load(f)"
   ]
  },
  {
   "cell_type": "code",
   "execution_count": 4,
   "metadata": {},
   "outputs": [],
   "source": [
    "# 책, 여행 코드+타이틀 데이터 임포트\n",
    "with open('bt_title.pickle', 'rb') as f:\n",
    "    bt_title = pickle.load(f)"
   ]
  },
  {
   "cell_type": "markdown",
   "metadata": {},
   "source": [
    "### 2. 함수 실행"
   ]
  },
  {
   "cell_type": "code",
   "execution_count": 6,
   "metadata": {},
   "outputs": [
    {
     "data": {
      "text/html": [
       "<div>\n",
       "<style scoped>\n",
       "    .dataframe tbody tr th:only-of-type {\n",
       "        vertical-align: middle;\n",
       "    }\n",
       "\n",
       "    .dataframe tbody tr th {\n",
       "        vertical-align: top;\n",
       "    }\n",
       "\n",
       "    .dataframe thead th {\n",
       "        text-align: right;\n",
       "    }\n",
       "</style>\n",
       "<table border=\"1\" class=\"dataframe\">\n",
       "  <thead>\n",
       "    <tr style=\"text-align: right;\">\n",
       "      <th></th>\n",
       "      <th>code</th>\n",
       "      <th>title</th>\n",
       "    </tr>\n",
       "  </thead>\n",
       "  <tbody>\n",
       "    <tr>\n",
       "      <td>240</td>\n",
       "      <td>46764</td>\n",
       "      <td>[한국인투어] 호빗 마을과 반짝반짝 와이토모 반딧불동굴(단독투어) :: 뉴질랜드/오클랜드</td>\n",
       "    </tr>\n",
       "    <tr>\n",
       "      <td>350</td>\n",
       "      <td>72633</td>\n",
       "      <td>[투어] (오픈기념할인) 트빌리시 도보 시티투어 (조지아/트빌리시)</td>\n",
       "    </tr>\n",
       "    <tr>\n",
       "      <td>405</td>\n",
       "      <td>20794</td>\n",
       "      <td>양곤에서 떠나는 바고(Bago) 문화 개별투어</td>\n",
       "    </tr>\n",
       "    <tr>\n",
       "      <td>360</td>\n",
       "      <td>26810</td>\n",
       "      <td>크라쿠프 출발 : 비엘리치카 소금 광산 투어</td>\n",
       "    </tr>\n",
       "    <tr>\n",
       "      <td>305</td>\n",
       "      <td>36308</td>\n",
       "      <td>[투어]리스본 아름다운 골목의 로맨틱한 스토리, 로맨틱투어 / 예약시 신트라 또는 ...</td>\n",
       "    </tr>\n",
       "    <tr>\n",
       "      <td>...</td>\n",
       "      <td>...</td>\n",
       "      <td>...</td>\n",
       "    </tr>\n",
       "    <tr>\n",
       "      <td>221</td>\n",
       "      <td>43156</td>\n",
       "      <td>[투어] 상파울로 차량 시티투어 :: 브라질/상파울루</td>\n",
       "    </tr>\n",
       "    <tr>\n",
       "      <td>346</td>\n",
       "      <td>54195</td>\n",
       "      <td>[투어] 드니프로강 서안 집중 투어  (우크라이나/키예프)</td>\n",
       "    </tr>\n",
       "    <tr>\n",
       "      <td>347</td>\n",
       "      <td>52198</td>\n",
       "      <td>[투어] 키예프 테이스티 투어 :: 우크라이나/키예프</td>\n",
       "    </tr>\n",
       "    <tr>\n",
       "      <td>348</td>\n",
       "      <td>38145</td>\n",
       "      <td>[투어] 우크라이나 동화마을 피로고보 투어 :: 우크라이나/키예프</td>\n",
       "    </tr>\n",
       "    <tr>\n",
       "      <td>219</td>\n",
       "      <td>58695</td>\n",
       "      <td>[투어] 리오 데 자네이로 (페트로 폴리스-full day)-단독투어 (브라질/리오...</td>\n",
       "    </tr>\n",
       "  </tbody>\n",
       "</table>\n",
       "<p>209 rows × 2 columns</p>\n",
       "</div>"
      ],
      "text/plain": [
       "      code                                              title\n",
       "240  46764  [한국인투어] 호빗 마을과 반짝반짝 와이토모 반딧불동굴(단독투어) :: 뉴질랜드/오클랜드\n",
       "350  72633              [투어] (오픈기념할인) 트빌리시 도보 시티투어 (조지아/트빌리시)\n",
       "405  20794                          양곤에서 떠나는 바고(Bago) 문화 개별투어\n",
       "360  26810                           크라쿠프 출발 : 비엘리치카 소금 광산 투어\n",
       "305  36308  [투어]리스본 아름다운 골목의 로맨틱한 스토리, 로맨틱투어 / 예약시 신트라 또는 ...\n",
       "..     ...                                                ...\n",
       "221  43156                      [투어] 상파울로 차량 시티투어 :: 브라질/상파울루\n",
       "346  54195                   [투어] 드니프로강 서안 집중 투어  (우크라이나/키예프)\n",
       "347  52198                      [투어] 키예프 테이스티 투어 :: 우크라이나/키예프\n",
       "348  38145               [투어] 우크라이나 동화마을 피로고보 투어 :: 우크라이나/키예프\n",
       "219  58695  [투어] 리오 데 자네이로 (페트로 폴리스-full day)-단독투어 (브라질/리오...\n",
       "\n",
       "[209 rows x 2 columns]"
      ]
     },
     "execution_count": 6,
     "metadata": {},
     "output_type": "execute_result"
    }
   ],
   "source": [
    "find_sim_data(bt_title, co_sim_sorted, '9788956609959')"
   ]
  },
  {
   "cell_type": "code",
   "execution_count": null,
   "metadata": {},
   "outputs": [],
   "source": []
  }
 ],
 "metadata": {
  "kernelspec": {
   "display_name": "Python 3",
   "language": "python",
   "name": "python3"
  },
  "language_info": {
   "codemirror_mode": {
    "name": "ipython",
    "version": 3
   },
   "file_extension": ".py",
   "mimetype": "text/x-python",
   "name": "python",
   "nbconvert_exporter": "python",
   "pygments_lexer": "ipython3",
   "version": "3.7.4"
  }
 },
 "nbformat": 4,
 "nbformat_minor": 2
}
